{
 "cells": [
  {
   "cell_type": "code",
   "execution_count": null,
   "id": "ed350bd9-b8ad-4928-9784-40d18774c1be",
   "metadata": {},
   "outputs": [],
   "source": [
    "import json\n",
    "import csv\n",
    "\n",
    "def load_squad_data(file_path):\n",
    "    with open(file_path, 'r') as file:\n",
    "        squad_dict = json.load(file)\n",
    "    return squad_dict['data']\n",
    "\n",
    "def extract_rows_values(squad_data):\n",
    "    rows_values = []\n",
    "    for value in squad_data:\n",
    "        for paragraph in value['paragraphs']:\n",
    "            context = paragraph['context']\n",
    "            for qa in paragraph['qas']:\n",
    "                question = qa['question']\n",
    "                answer = qa['answers'][0]['text']\n",
    "                start_pos = qa['answers'][0]['answer_start']\n",
    "                end_pos = start_pos + len(answer)\n",
    "                rows_values.append([str(context), str(question), str(answer), start_pos, end_pos])\n",
    "    return rows_values\n",
    "\n",
    "def convert_to_csv(file_path, rows_values):\n",
    "    with open(file_path, 'w', newline='') as file:\n",
    "        writer = csv.writer(file)\n",
    "        writer.writerow(['context', 'question', 'answer', 'start_pos', 'end_pos'])\n",
    "        writer.writerows(rows_values)\n",
    "\n",
    "def preprocess(file_path):\n",
    "    squad_data = load_squad_data(file_path)\n",
    "    rows_values = extract_rows_values(squad_data)\n",
    "    convert_to_csv(file_path, rows_values)"
   ]
  },
  {
   "cell_type": "code",
   "execution_count": null,
   "id": "1893f6e5-d805-4cb9-9065-c885e2a6730f",
   "metadata": {},
   "outputs": [],
   "source": [
    "def process_and_save_data(input_file, output_file):\n",
    "    data = preprocess(input_file)\n",
    "    convert_to_csv(output_file, data)\n",
    "\n",
    "process_and_save_data('spoken_train-v1.1.json', 'squad_train_data.csv')"
   ]
  },
  {
   "cell_type": "code",
   "execution_count": null,
   "id": "9e6fc851-1aca-4298-89af-a2fd729e3e82",
   "metadata": {},
   "outputs": [],
   "source": [
    "process_and_save_data('spoken_test-v1.1.json', 'squad_test_data.csv')"
   ]
  }
 ],
 "metadata": {
  "kernelspec": {
   "display_name": "Python 3 (ipykernel)",
   "language": "python",
   "name": "python3"
  },
  "language_info": {
   "codemirror_mode": {
    "name": "ipython",
    "version": 3
   },
   "file_extension": ".py",
   "mimetype": "text/x-python",
   "name": "python",
   "nbconvert_exporter": "python",
   "pygments_lexer": "ipython3",
   "version": "3.9.16"
  }
 },
 "nbformat": 4,
 "nbformat_minor": 5
}
